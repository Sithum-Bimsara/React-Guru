{
 "cells": [
  {
   "cell_type": "markdown",
   "id": "12f7a608-018a-4380-944a-db42ee814dd7",
   "metadata": {},
   "source": [
    "# 📖 JavaScript: Understanding `this` and the `bind` Method\n",
    "\n",
    "## 🔹 Recap from the Last Lecture\n",
    "\n",
    "In the last lecture, you learned that when we call a function as a standalone function (outside of an object), the value of `this`:\n",
    "- 🏠 Defaults to the **global object** (`window` in browsers) 🌍.\n",
    "- ❗ If **strict mode** (`'use strict'`) is enabled, `this` returns `undefined` 🚫.\n",
    "\n",
    "## 🔹 Fixing the `this` Problem\n",
    "\n",
    "In this lecture, we will learn how to **fix** this issue so that no matter how we call the `walk` function, `this` will always reference the `person` object 👤.\n",
    "\n",
    "### ✅ JavaScript Functions Are Objects\n",
    "One new thing to note is that **functions in JavaScript are objects** 📦. \n",
    "- `person.walk` is actually an **object**.\n",
    "- Don't believe it? Let's check:\n",
    "  ```js\n",
    "  console.log(person.walk);\n",
    "  ```\n",
    "- When we log this function, we can see that it has **multiple members** (properties and methods) 🔍.\n",
    "- One of these methods is **`bind`**, which helps us solve our problem ✅.\n",
    "\n",
    "## 🔹 The `bind` Method 🏷️\n",
    "### How Does `bind` Work?\n",
    "The `bind` method **attaches** a function to an object permanently.\n",
    "\n",
    "```js\n",
    "const walk = person.walk.bind(person);\n",
    "walk();\n",
    "```\n",
    "\n",
    "### 🧐 Breaking It Down:\n",
    "- `bind` **creates a new function** where `this` always refers to the `person` object.\n",
    "- The **first argument** to `bind` determines the value of `this`.\n",
    "- Since we pass `person` as an argument, the returned function **always references** `person` 🎯.\n",
    "\n",
    "### ✅ Fixing Our Issue\n",
    "Now, when we call the `walk` function, it correctly prints the `person` object to the console 🎉.\n",
    "\n",
    "## 🔹 Quick Recap 📌\n",
    "- 🏗️ **Functions in JavaScript are objects**.\n",
    "- 🎭 **They have properties and methods**.\n",
    "- 🔗 The **`bind` method** permanently binds `this` to a specific object.\n",
    "- 📌 **Using `bind`, we ensure that `this` inside a function always refers to the expected object**.\n",
    "- 🚀 `bind` is widely used in **React applications** to manage function references.\n",
    "\n",
    "Now you understand how `bind` works and how it helps us control `this` in JavaScript! 🚀🔥\n"
   ]
  },
  {
   "cell_type": "code",
   "execution_count": null,
   "id": "b8ed84e3-7bc3-41c4-83bd-db873e1537dd",
   "metadata": {},
   "outputs": [],
   "source": []
  }
 ],
 "metadata": {
  "kernelspec": {
   "display_name": "Python [conda env:base] *",
   "language": "python",
   "name": "conda-base-py"
  },
  "language_info": {
   "codemirror_mode": {
    "name": "ipython",
    "version": 3
   },
   "file_extension": ".py",
   "mimetype": "text/x-python",
   "name": "python",
   "nbconvert_exporter": "python",
   "pygments_lexer": "ipython3",
   "version": "3.12.7"
  }
 },
 "nbformat": 4,
 "nbformat_minor": 5
}
